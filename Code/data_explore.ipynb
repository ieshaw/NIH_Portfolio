{
 "cells": [
  {
   "cell_type": "code",
   "execution_count": 1,
   "metadata": {},
   "outputs": [],
   "source": [
    "import os\n",
    "import pandas as pd\n",
    "from IPython.display import display"
   ]
  },
  {
   "cell_type": "code",
   "execution_count": 2,
   "metadata": {},
   "outputs": [],
   "source": [
    "data_path = 'data/'"
   ]
  },
  {
   "cell_type": "code",
   "execution_count": 3,
   "metadata": {},
   "outputs": [
    {
     "data": {
      "text/plain": [
       "['.DS_Store',\n",
       " 'nih_citation.csv',\n",
       " 'nih_clinical_trials.csv',\n",
       " 'nih_data_funding.csv',\n",
       " 'nih_gbd_data.csv',\n",
       " 'nih_links.csv',\n",
       " 'nih_patents.csv',\n",
       " 'nih_pubs.csv',\n",
       " 'README.rtf']"
      ]
     },
     "execution_count": 3,
     "metadata": {},
     "output_type": "execute_result"
    }
   ],
   "source": [
    "os.listdir(data_path)"
   ]
  },
  {
   "cell_type": "code",
   "execution_count": 4,
   "metadata": {
    "scrolled": false
   },
   "outputs": [
    {
     "name": "stdout",
     "output_type": "stream",
     "text": [
      "-------------------------------------------\n",
      "nih_citation.csv\n",
      "-------------------------------------------\n",
      "Rows: 1731290 Columns: 12\n",
      "-------------------------------------------\n"
     ]
    },
    {
     "data": {
      "text/html": [
       "<div>\n",
       "<table border=\"1\" class=\"dataframe\">\n",
       "  <thead>\n",
       "    <tr style=\"text-align: right;\">\n",
       "      <th></th>\n",
       "      <th>authors</th>\n",
       "      <th>citation_count</th>\n",
       "      <th>citations_per_year</th>\n",
       "      <th>expected_citations_per_year</th>\n",
       "      <th>field_citation_rate</th>\n",
       "      <th>is_research_article</th>\n",
       "      <th>journal</th>\n",
       "      <th>nih_percentile</th>\n",
       "      <th>pmid</th>\n",
       "      <th>relative_citation_ratio</th>\n",
       "      <th>title</th>\n",
       "      <th>year</th>\n",
       "    </tr>\n",
       "  </thead>\n",
       "  <tbody>\n",
       "    <tr>\n",
       "      <th>0</th>\n",
       "      <td>J M DeCou, L C Bowman, B N Rao, V M Santana, W...</td>\n",
       "      <td>18</td>\n",
       "      <td>0.750000</td>\n",
       "      <td>0.971746</td>\n",
       "      <td>2.840224</td>\n",
       "      <td>True</td>\n",
       "      <td>J. Pediatr. Surg.</td>\n",
       "      <td>40.6</td>\n",
       "      <td>7472948</td>\n",
       "      <td>0.771806</td>\n",
       "      <td>Infants with metastatic neuroblastoma have imp...</td>\n",
       "      <td>1995</td>\n",
       "    </tr>\n",
       "    <tr>\n",
       "      <th>1</th>\n",
       "      <td>S Gupta, R Rajaprabhakaran, S Arndt, M Flaum, ...</td>\n",
       "      <td>62</td>\n",
       "      <td>2.583333</td>\n",
       "      <td>1.000248</td>\n",
       "      <td>2.989561</td>\n",
       "      <td>True</td>\n",
       "      <td>Schizophr. Res.</td>\n",
       "      <td>82.0</td>\n",
       "      <td>7488564</td>\n",
       "      <td>2.582694</td>\n",
       "      <td>Premorbid adjustment as a predictor of phenome...</td>\n",
       "      <td>1995</td>\n",
       "    </tr>\n",
       "    <tr>\n",
       "      <th>2</th>\n",
       "      <td>D L Penn, K T Mueser, R Doonan, P Nishith</td>\n",
       "      <td>20</td>\n",
       "      <td>0.833333</td>\n",
       "      <td>1.082022</td>\n",
       "      <td>3.418027</td>\n",
       "      <td>True</td>\n",
       "      <td>Schizophr. Res.</td>\n",
       "      <td>40.5</td>\n",
       "      <td>7488568</td>\n",
       "      <td>0.770163</td>\n",
       "      <td>Relations between social skills and ward behav...</td>\n",
       "      <td>1995</td>\n",
       "    </tr>\n",
       "    <tr>\n",
       "      <th>3</th>\n",
       "      <td>I Huq, T M Wilson, M R Kelley, W A Deutsch</td>\n",
       "      <td>6</td>\n",
       "      <td>0.250000</td>\n",
       "      <td>1.667346</td>\n",
       "      <td>6.484910</td>\n",
       "      <td>True</td>\n",
       "      <td>Mutat. Res.</td>\n",
       "      <td>7.3</td>\n",
       "      <td>7491122</td>\n",
       "      <td>0.149939</td>\n",
       "      <td>Expression in Escherichia coli of a rat cDNA e...</td>\n",
       "      <td>1995</td>\n",
       "    </tr>\n",
       "    <tr>\n",
       "      <th>4</th>\n",
       "      <td>D L Oliver, G E Beckius, A Shneiderman</td>\n",
       "      <td>65</td>\n",
       "      <td>2.708333</td>\n",
       "      <td>1.229886</td>\n",
       "      <td>4.192784</td>\n",
       "      <td>True</td>\n",
       "      <td>J. Comp. Neurol.</td>\n",
       "      <td>77.7</td>\n",
       "      <td>7499562</td>\n",
       "      <td>2.202100</td>\n",
       "      <td>Axonal projections from the lateral and medial...</td>\n",
       "      <td>1995</td>\n",
       "    </tr>\n",
       "  </tbody>\n",
       "</table>\n",
       "</div>"
      ],
      "text/plain": [
       "                                             authors  citation_count  \\\n",
       "0  J M DeCou, L C Bowman, B N Rao, V M Santana, W...              18   \n",
       "1  S Gupta, R Rajaprabhakaran, S Arndt, M Flaum, ...              62   \n",
       "2          D L Penn, K T Mueser, R Doonan, P Nishith              20   \n",
       "3         I Huq, T M Wilson, M R Kelley, W A Deutsch               6   \n",
       "4             D L Oliver, G E Beckius, A Shneiderman              65   \n",
       "\n",
       "   citations_per_year  expected_citations_per_year  field_citation_rate  \\\n",
       "0            0.750000                     0.971746             2.840224   \n",
       "1            2.583333                     1.000248             2.989561   \n",
       "2            0.833333                     1.082022             3.418027   \n",
       "3            0.250000                     1.667346             6.484910   \n",
       "4            2.708333                     1.229886             4.192784   \n",
       "\n",
       "  is_research_article            journal  nih_percentile     pmid  \\\n",
       "0                True  J. Pediatr. Surg.            40.6  7472948   \n",
       "1                True    Schizophr. Res.            82.0  7488564   \n",
       "2                True    Schizophr. Res.            40.5  7488568   \n",
       "3                True        Mutat. Res.             7.3  7491122   \n",
       "4                True   J. Comp. Neurol.            77.7  7499562   \n",
       "\n",
       "   relative_citation_ratio                                              title  \\\n",
       "0                 0.771806  Infants with metastatic neuroblastoma have imp...   \n",
       "1                 2.582694  Premorbid adjustment as a predictor of phenome...   \n",
       "2                 0.770163  Relations between social skills and ward behav...   \n",
       "3                 0.149939  Expression in Escherichia coli of a rat cDNA e...   \n",
       "4                 2.202100  Axonal projections from the lateral and medial...   \n",
       "\n",
       "   year  \n",
       "0  1995  \n",
       "1  1995  \n",
       "2  1995  \n",
       "3  1995  \n",
       "4  1995  "
      ]
     },
     "metadata": {},
     "output_type": "display_data"
    },
    {
     "name": "stdout",
     "output_type": "stream",
     "text": [
      "-------------------------------------------\n",
      "nih_clinical_trials.csv\n",
      "-------------------------------------------\n",
      "Rows: 21748 Columns: 4\n",
      "-------------------------------------------\n"
     ]
    },
    {
     "data": {
      "text/html": [
       "<div>\n",
       "<table border=\"1\" class=\"dataframe\">\n",
       "  <thead>\n",
       "    <tr style=\"text-align: right;\">\n",
       "      <th></th>\n",
       "      <th>Core Project Number</th>\n",
       "      <th>ClinicalTrials.gov ID</th>\n",
       "      <th>Study</th>\n",
       "      <th>Study Status</th>\n",
       "    </tr>\n",
       "  </thead>\n",
       "  <tbody>\n",
       "    <tr>\n",
       "      <th>0</th>\n",
       "      <td>UL1TR000135</td>\n",
       "      <td>NCT03189979</td>\n",
       "      <td>Club Fit: Physical Activity and Healthy Eating...</td>\n",
       "      <td>COMPLETED</td>\n",
       "    </tr>\n",
       "    <tr>\n",
       "      <th>1</th>\n",
       "      <td>P30DK084567</td>\n",
       "      <td>NCT03266068</td>\n",
       "      <td>Epidemiology and Pathophysiology of Post-Infec...</td>\n",
       "      <td>RECRUITING</td>\n",
       "    </tr>\n",
       "    <tr>\n",
       "      <th>2</th>\n",
       "      <td>U01DK082871</td>\n",
       "      <td>NCT01368497</td>\n",
       "      <td>Entecavir/Pegylated Interferon in Immune Toler...</td>\n",
       "      <td>COMPLETED</td>\n",
       "    </tr>\n",
       "    <tr>\n",
       "      <th>3</th>\n",
       "      <td>U01HL066497</td>\n",
       "      <td>NCT00047437</td>\n",
       "      <td>Exercise Training Program to Improve Clinical ...</td>\n",
       "      <td>COMPLETED</td>\n",
       "    </tr>\n",
       "    <tr>\n",
       "      <th>4</th>\n",
       "      <td>U01HL068281</td>\n",
       "      <td>NCT00113698</td>\n",
       "      <td>Angiotensin Converting Enzyme Inhibition in Ch...</td>\n",
       "      <td>TERMINATED</td>\n",
       "    </tr>\n",
       "  </tbody>\n",
       "</table>\n",
       "</div>"
      ],
      "text/plain": [
       "  Core Project Number ClinicalTrials.gov ID  \\\n",
       "0         UL1TR000135           NCT03189979   \n",
       "1         P30DK084567           NCT03266068   \n",
       "2         U01DK082871           NCT01368497   \n",
       "3         U01HL066497           NCT00047437   \n",
       "4         U01HL068281           NCT00113698   \n",
       "\n",
       "                                               Study Study Status  \n",
       "0  Club Fit: Physical Activity and Healthy Eating...    COMPLETED  \n",
       "1  Epidemiology and Pathophysiology of Post-Infec...   RECRUITING  \n",
       "2  Entecavir/Pegylated Interferon in Immune Toler...    COMPLETED  \n",
       "3  Exercise Training Program to Improve Clinical ...    COMPLETED  \n",
       "4  Angiotensin Converting Enzyme Inhibition in Ch...   TERMINATED  "
      ]
     },
     "metadata": {},
     "output_type": "display_data"
    },
    {
     "name": "stdout",
     "output_type": "stream",
     "text": [
      "-------------------------------------------\n",
      "nih_data_funding.csv\n",
      "-------------------------------------------\n"
     ]
    },
    {
     "name": "stderr",
     "output_type": "stream",
     "text": [
      "/Library/Frameworks/Python.framework/Versions/3.5/lib/python3.5/site-packages/IPython/core/interactiveshell.py:2717: DtypeWarning: Columns (2,6,7,10,14,15,17,18,19) have mixed types. Specify dtype option on import or set low_memory=False.\n",
      "  interactivity=interactivity, compiler=compiler, result=result)\n"
     ]
    },
    {
     "name": "stdout",
     "output_type": "stream",
     "text": [
      "Rows: 1627925 Columns: 22\n",
      "-------------------------------------------\n"
     ]
    },
    {
     "data": {
      "text/html": [
       "<div>\n",
       "<table border=\"1\" class=\"dataframe\">\n",
       "  <thead>\n",
       "    <tr style=\"text-align: right;\">\n",
       "      <th></th>\n",
       "      <th>APPLICATION_ID</th>\n",
       "      <th>ACTIVITY</th>\n",
       "      <th>CORE_PROJECT_NUM</th>\n",
       "      <th>FULL_PROJECT_NUM</th>\n",
       "      <th>PROJECT_TITLE</th>\n",
       "      <th>FY</th>\n",
       "      <th>PROJECT_START</th>\n",
       "      <th>PROJECT_END</th>\n",
       "      <th>BUDGET_START</th>\n",
       "      <th>BUDGET_END</th>\n",
       "      <th>...</th>\n",
       "      <th>ORG_NAME</th>\n",
       "      <th>ORG_STATE</th>\n",
       "      <th>ORG_ZIPCODE</th>\n",
       "      <th>PI_IDS</th>\n",
       "      <th>PI_NAMEs</th>\n",
       "      <th>STUDY_SECTION</th>\n",
       "      <th>STUDY_SECTION_NAME</th>\n",
       "      <th>IC_NAME</th>\n",
       "      <th>TOTAL_COST</th>\n",
       "      <th>TOTAL_COST_infl_adj</th>\n",
       "    </tr>\n",
       "  </thead>\n",
       "  <tbody>\n",
       "    <tr>\n",
       "      <th>0</th>\n",
       "      <td>6258248</td>\n",
       "      <td>C06</td>\n",
       "      <td>C06CA091516</td>\n",
       "      <td>1C06CA091516-01</td>\n",
       "      <td>EXTRAMURAL RESEARCH FACILITIES CONSTRUCTION</td>\n",
       "      <td>2000</td>\n",
       "      <td>09/22/2000</td>\n",
       "      <td>06/30/2004</td>\n",
       "      <td>09/22/2000</td>\n",
       "      <td>06/30/2004</td>\n",
       "      <td>...</td>\n",
       "      <td>UNIVERSITY OF COLORADO DENVER</td>\n",
       "      <td>CO</td>\n",
       "      <td>800452505</td>\n",
       "      <td>1860776;</td>\n",
       "      <td>BUNN, PAUL A;</td>\n",
       "      <td>STRB</td>\n",
       "      <td>Scientific and Technical Review Board on Biome...</td>\n",
       "      <td>NATIONAL CANCER INSTITUTE</td>\n",
       "      <td>1488000</td>\n",
       "      <td>2.117252e+06</td>\n",
       "    </tr>\n",
       "    <tr>\n",
       "      <th>1</th>\n",
       "      <td>6033399</td>\n",
       "      <td>C06</td>\n",
       "      <td>C06RR014469</td>\n",
       "      <td>1C06RR014469-01</td>\n",
       "      <td>RENOVATION THIRD FLOOR CHAUNCEY I. COOPER HALL...</td>\n",
       "      <td>2000</td>\n",
       "      <td>07/01/2000</td>\n",
       "      <td>06/30/2002</td>\n",
       "      <td>07/01/2000</td>\n",
       "      <td>06/30/2002</td>\n",
       "      <td>...</td>\n",
       "      <td>HOWARD UNIVERSITY</td>\n",
       "      <td>DC</td>\n",
       "      <td>20059</td>\n",
       "      <td>6423558;</td>\n",
       "      <td>LECCA, PEDRO J;</td>\n",
       "      <td>STRB</td>\n",
       "      <td>Scientific and Technical Review Board on Biome...</td>\n",
       "      <td>NATIONAL CENTER FOR RESEARCH RESOURCES</td>\n",
       "      <td>1000000</td>\n",
       "      <td>1.422885e+06</td>\n",
       "    </tr>\n",
       "    <tr>\n",
       "      <th>2</th>\n",
       "      <td>6039178</td>\n",
       "      <td>C06</td>\n",
       "      <td>C06RR014488</td>\n",
       "      <td>1C06RR014488-01</td>\n",
       "      <td>EXPANSION OF THE PERINATAL RESEARCH CENTER</td>\n",
       "      <td>2000</td>\n",
       "      <td>07/01/2000</td>\n",
       "      <td>06/30/2003</td>\n",
       "      <td>07/01/2000</td>\n",
       "      <td>06/30/2003</td>\n",
       "      <td>...</td>\n",
       "      <td>UNIVERSITY OF COLORADO DENVER</td>\n",
       "      <td>CO</td>\n",
       "      <td>800452505</td>\n",
       "      <td>1871945;</td>\n",
       "      <td>KRUGMAN, RICHARD D;</td>\n",
       "      <td>STRB</td>\n",
       "      <td>Scientific and Technical Review Board on Biome...</td>\n",
       "      <td>NATIONAL CENTER FOR RESEARCH RESOURCES</td>\n",
       "      <td>1000000</td>\n",
       "      <td>1.422885e+06</td>\n",
       "    </tr>\n",
       "    <tr>\n",
       "      <th>3</th>\n",
       "      <td>6258225</td>\n",
       "      <td>C06</td>\n",
       "      <td>C06RR014520</td>\n",
       "      <td>1C06RR014520-01A1</td>\n",
       "      <td>RENOVATION OF AN ANIMAL CARE FACILITY</td>\n",
       "      <td>2000</td>\n",
       "      <td>09/01/2000</td>\n",
       "      <td>08/31/2004</td>\n",
       "      <td>09/01/2000</td>\n",
       "      <td>08/31/2004</td>\n",
       "      <td>...</td>\n",
       "      <td>PENNSYLVANIA STATE UNIVERSITY-UNIV PARK</td>\n",
       "      <td>PA</td>\n",
       "      <td>16802</td>\n",
       "      <td>6522067;</td>\n",
       "      <td>PELL, EVA J;</td>\n",
       "      <td>STRB</td>\n",
       "      <td>Scientific and Technical Review Board on Biome...</td>\n",
       "      <td>NATIONAL CENTER FOR RESEARCH RESOURCES</td>\n",
       "      <td>1000000</td>\n",
       "      <td>1.422885e+06</td>\n",
       "    </tr>\n",
       "    <tr>\n",
       "      <th>4</th>\n",
       "      <td>6258259</td>\n",
       "      <td>C06</td>\n",
       "      <td>C06RR014524</td>\n",
       "      <td>1C06RR014524-01A1</td>\n",
       "      <td>RENOVATIONS OF THE MOLECULAR BIOPHYSICS BUILDING</td>\n",
       "      <td>2000</td>\n",
       "      <td>08/01/2000</td>\n",
       "      <td>07/31/2003</td>\n",
       "      <td>08/01/2000</td>\n",
       "      <td>07/31/2003</td>\n",
       "      <td>...</td>\n",
       "      <td>FLORIDA STATE UNIVERSITY</td>\n",
       "      <td>FL</td>\n",
       "      <td>323064166</td>\n",
       "      <td>8756854;</td>\n",
       "      <td>LOGAN, TIMOTHY M;</td>\n",
       "      <td>STRB</td>\n",
       "      <td>Scientific and Technical Review Board on Biome...</td>\n",
       "      <td>NATIONAL CENTER FOR RESEARCH RESOURCES</td>\n",
       "      <td>1999999</td>\n",
       "      <td>2.845768e+06</td>\n",
       "    </tr>\n",
       "  </tbody>\n",
       "</table>\n",
       "<p>5 rows × 22 columns</p>\n",
       "</div>"
      ],
      "text/plain": [
       "   APPLICATION_ID ACTIVITY CORE_PROJECT_NUM   FULL_PROJECT_NUM  \\\n",
       "0         6258248      C06      C06CA091516    1C06CA091516-01   \n",
       "1         6033399      C06      C06RR014469    1C06RR014469-01   \n",
       "2         6039178      C06      C06RR014488    1C06RR014488-01   \n",
       "3         6258225      C06      C06RR014520  1C06RR014520-01A1   \n",
       "4         6258259      C06      C06RR014524  1C06RR014524-01A1   \n",
       "\n",
       "                                       PROJECT_TITLE    FY PROJECT_START  \\\n",
       "0        EXTRAMURAL RESEARCH FACILITIES CONSTRUCTION  2000    09/22/2000   \n",
       "1  RENOVATION THIRD FLOOR CHAUNCEY I. COOPER HALL...  2000    07/01/2000   \n",
       "2         EXPANSION OF THE PERINATAL RESEARCH CENTER  2000    07/01/2000   \n",
       "3              RENOVATION OF AN ANIMAL CARE FACILITY  2000    09/01/2000   \n",
       "4   RENOVATIONS OF THE MOLECULAR BIOPHYSICS BUILDING  2000    08/01/2000   \n",
       "\n",
       "  PROJECT_END BUDGET_START  BUDGET_END         ...          \\\n",
       "0  06/30/2004   09/22/2000  06/30/2004         ...           \n",
       "1  06/30/2002   07/01/2000  06/30/2002         ...           \n",
       "2  06/30/2003   07/01/2000  06/30/2003         ...           \n",
       "3  08/31/2004   09/01/2000  08/31/2004         ...           \n",
       "4  07/31/2003   08/01/2000  07/31/2003         ...           \n",
       "\n",
       "                                  ORG_NAME ORG_STATE ORG_ZIPCODE    PI_IDS  \\\n",
       "0            UNIVERSITY OF COLORADO DENVER        CO   800452505  1860776;   \n",
       "1                        HOWARD UNIVERSITY        DC       20059  6423558;   \n",
       "2            UNIVERSITY OF COLORADO DENVER        CO   800452505  1871945;   \n",
       "3  PENNSYLVANIA STATE UNIVERSITY-UNIV PARK        PA       16802  6522067;   \n",
       "4                 FLORIDA STATE UNIVERSITY        FL   323064166  8756854;   \n",
       "\n",
       "              PI_NAMEs STUDY_SECTION  \\\n",
       "0        BUNN, PAUL A;          STRB   \n",
       "1      LECCA, PEDRO J;          STRB   \n",
       "2  KRUGMAN, RICHARD D;          STRB   \n",
       "3         PELL, EVA J;          STRB   \n",
       "4    LOGAN, TIMOTHY M;          STRB   \n",
       "\n",
       "                                  STUDY_SECTION_NAME  \\\n",
       "0  Scientific and Technical Review Board on Biome...   \n",
       "1  Scientific and Technical Review Board on Biome...   \n",
       "2  Scientific and Technical Review Board on Biome...   \n",
       "3  Scientific and Technical Review Board on Biome...   \n",
       "4  Scientific and Technical Review Board on Biome...   \n",
       "\n",
       "                                  IC_NAME TOTAL_COST TOTAL_COST_infl_adj  \n",
       "0               NATIONAL CANCER INSTITUTE    1488000        2.117252e+06  \n",
       "1  NATIONAL CENTER FOR RESEARCH RESOURCES    1000000        1.422885e+06  \n",
       "2  NATIONAL CENTER FOR RESEARCH RESOURCES    1000000        1.422885e+06  \n",
       "3  NATIONAL CENTER FOR RESEARCH RESOURCES    1000000        1.422885e+06  \n",
       "4  NATIONAL CENTER FOR RESEARCH RESOURCES    1999999        2.845768e+06  \n",
       "\n",
       "[5 rows x 22 columns]"
      ]
     },
     "metadata": {},
     "output_type": "display_data"
    },
    {
     "name": "stdout",
     "output_type": "stream",
     "text": [
      "-------------------------------------------\n",
      "nih_gbd_data.csv\n",
      "-------------------------------------------\n",
      "Rows: 12762 Columns: 7\n",
      "-------------------------------------------\n"
     ]
    },
    {
     "data": {
      "text/html": [
       "<div>\n",
       "<table border=\"1\" class=\"dataframe\">\n",
       "  <thead>\n",
       "    <tr style=\"text-align: right;\">\n",
       "      <th></th>\n",
       "      <th>disease</th>\n",
       "      <th>cause_name</th>\n",
       "      <th>year</th>\n",
       "      <th>funding</th>\n",
       "      <th>measure_name</th>\n",
       "      <th>metric_name</th>\n",
       "      <th>val</th>\n",
       "    </tr>\n",
       "  </thead>\n",
       "  <tbody>\n",
       "    <tr>\n",
       "      <th>0</th>\n",
       "      <td>alcoholism, alcohol use and health</td>\n",
       "      <td>alcohol use disorders</td>\n",
       "      <td>2014</td>\n",
       "      <td>475.0</td>\n",
       "      <td>DALYs (Disability-Adjusted Life Years)</td>\n",
       "      <td>Number</td>\n",
       "      <td>1.047883e+06</td>\n",
       "    </tr>\n",
       "    <tr>\n",
       "      <th>1</th>\n",
       "      <td>alcoholism, alcohol use and health</td>\n",
       "      <td>alcohol use disorders</td>\n",
       "      <td>2014</td>\n",
       "      <td>475.0</td>\n",
       "      <td>DALYs (Disability-Adjusted Life Years)</td>\n",
       "      <td>Percent</td>\n",
       "      <td>1.107987e-02</td>\n",
       "    </tr>\n",
       "    <tr>\n",
       "      <th>2</th>\n",
       "      <td>alcoholism, alcohol use and health</td>\n",
       "      <td>alcohol use disorders</td>\n",
       "      <td>2014</td>\n",
       "      <td>475.0</td>\n",
       "      <td>DALYs (Disability-Adjusted Life Years)</td>\n",
       "      <td>Rate</td>\n",
       "      <td>3.289856e+02</td>\n",
       "    </tr>\n",
       "    <tr>\n",
       "      <th>3</th>\n",
       "      <td>alcoholism, alcohol use and health</td>\n",
       "      <td>alcohol use disorders</td>\n",
       "      <td>2014</td>\n",
       "      <td>475.0</td>\n",
       "      <td>Incidence</td>\n",
       "      <td>Number</td>\n",
       "      <td>2.854242e+06</td>\n",
       "    </tr>\n",
       "    <tr>\n",
       "      <th>4</th>\n",
       "      <td>alcoholism, alcohol use and health</td>\n",
       "      <td>alcohol use disorders</td>\n",
       "      <td>2014</td>\n",
       "      <td>475.0</td>\n",
       "      <td>Incidence</td>\n",
       "      <td>Percent</td>\n",
       "      <td>1.761443e-03</td>\n",
       "    </tr>\n",
       "  </tbody>\n",
       "</table>\n",
       "</div>"
      ],
      "text/plain": [
       "                              disease             cause_name  year  funding  \\\n",
       "0  alcoholism, alcohol use and health  alcohol use disorders  2014    475.0   \n",
       "1  alcoholism, alcohol use and health  alcohol use disorders  2014    475.0   \n",
       "2  alcoholism, alcohol use and health  alcohol use disorders  2014    475.0   \n",
       "3  alcoholism, alcohol use and health  alcohol use disorders  2014    475.0   \n",
       "4  alcoholism, alcohol use and health  alcohol use disorders  2014    475.0   \n",
       "\n",
       "                             measure_name metric_name           val  \n",
       "0  DALYs (Disability-Adjusted Life Years)      Number  1.047883e+06  \n",
       "1  DALYs (Disability-Adjusted Life Years)     Percent  1.107987e-02  \n",
       "2  DALYs (Disability-Adjusted Life Years)        Rate  3.289856e+02  \n",
       "3                               Incidence      Number  2.854242e+06  \n",
       "4                               Incidence     Percent  1.761443e-03  "
      ]
     },
     "metadata": {},
     "output_type": "display_data"
    },
    {
     "name": "stdout",
     "output_type": "stream",
     "text": [
      "-------------------------------------------\n",
      "nih_links.csv\n",
      "-------------------------------------------\n",
      "Rows: 5023449 Columns: 2\n",
      "-------------------------------------------\n"
     ]
    },
    {
     "data": {
      "text/html": [
       "<div>\n",
       "<table border=\"1\" class=\"dataframe\">\n",
       "  <thead>\n",
       "    <tr style=\"text-align: right;\">\n",
       "      <th></th>\n",
       "      <th>PMID</th>\n",
       "      <th>PROJECT_NUMBER</th>\n",
       "    </tr>\n",
       "  </thead>\n",
       "  <tbody>\n",
       "    <tr>\n",
       "      <th>0</th>\n",
       "      <td>7431869</td>\n",
       "      <td>P50HL019362</td>\n",
       "    </tr>\n",
       "    <tr>\n",
       "      <th>1</th>\n",
       "      <td>7431869</td>\n",
       "      <td>P01HL015914</td>\n",
       "    </tr>\n",
       "    <tr>\n",
       "      <th>2</th>\n",
       "      <td>7438034</td>\n",
       "      <td>P01CA014520</td>\n",
       "    </tr>\n",
       "    <tr>\n",
       "      <th>3</th>\n",
       "      <td>7432470</td>\n",
       "      <td>K02MH000238</td>\n",
       "    </tr>\n",
       "    <tr>\n",
       "      <th>4</th>\n",
       "      <td>7052532</td>\n",
       "      <td>P01DA000259</td>\n",
       "    </tr>\n",
       "  </tbody>\n",
       "</table>\n",
       "</div>"
      ],
      "text/plain": [
       "      PMID PROJECT_NUMBER\n",
       "0  7431869    P50HL019362\n",
       "1  7431869    P01HL015914\n",
       "2  7438034    P01CA014520\n",
       "3  7432470    K02MH000238\n",
       "4  7052532    P01DA000259"
      ]
     },
     "metadata": {},
     "output_type": "display_data"
    },
    {
     "name": "stdout",
     "output_type": "stream",
     "text": [
      "-------------------------------------------\n",
      "nih_patents.csv\n",
      "-------------------------------------------\n",
      "Rows: 43477 Columns: 4\n",
      "-------------------------------------------\n"
     ]
    },
    {
     "data": {
      "text/html": [
       "<div>\n",
       "<table border=\"1\" class=\"dataframe\">\n",
       "  <thead>\n",
       "    <tr style=\"text-align: right;\">\n",
       "      <th></th>\n",
       "      <th>PATENT_ID</th>\n",
       "      <th>PATENT_TITLE</th>\n",
       "      <th>PROJECT_ID</th>\n",
       "      <th>PATENT_ORG_NAME</th>\n",
       "    </tr>\n",
       "  </thead>\n",
       "  <tbody>\n",
       "    <tr>\n",
       "      <th>0</th>\n",
       "      <td>7662570</td>\n",
       "      <td>Labor biomarkers, methods comprising same, and...</td>\n",
       "      <td>D43TW000671</td>\n",
       "      <td>UNIVERSITY OF PENNSYLVANIA</td>\n",
       "    </tr>\n",
       "    <tr>\n",
       "      <th>1</th>\n",
       "      <td>8021673</td>\n",
       "      <td>Proteins with repetitive Bacterial-Ig-like (Bi...</td>\n",
       "      <td>D43TW000905</td>\n",
       "      <td>CORNELL UNIVERSITY</td>\n",
       "    </tr>\n",
       "    <tr>\n",
       "      <th>2</th>\n",
       "      <td>8697359</td>\n",
       "      <td>CRISPR-Cas systems and methods for altering ex...</td>\n",
       "      <td>DP1MH100706</td>\n",
       "      <td>BROAD INSTITUTE, INC.</td>\n",
       "    </tr>\n",
       "    <tr>\n",
       "      <th>3</th>\n",
       "      <td>8889356</td>\n",
       "      <td>CRISPR-Cas nickase systems, methods and compos...</td>\n",
       "      <td>DP1MH100706</td>\n",
       "      <td>BROAD INSTITUTE, INC.</td>\n",
       "    </tr>\n",
       "    <tr>\n",
       "      <th>4</th>\n",
       "      <td>8195415</td>\n",
       "      <td>Noninvasive diagnosis of fetal aneuploidy by s...</td>\n",
       "      <td>DP1OD000251</td>\n",
       "      <td>STANFORD UNIVERSITY</td>\n",
       "    </tr>\n",
       "  </tbody>\n",
       "</table>\n",
       "</div>"
      ],
      "text/plain": [
       "  PATENT_ID                                       PATENT_TITLE   PROJECT_ID  \\\n",
       "0   7662570  Labor biomarkers, methods comprising same, and...  D43TW000671   \n",
       "1   8021673  Proteins with repetitive Bacterial-Ig-like (Bi...  D43TW000905   \n",
       "2   8697359  CRISPR-Cas systems and methods for altering ex...  DP1MH100706   \n",
       "3   8889356  CRISPR-Cas nickase systems, methods and compos...  DP1MH100706   \n",
       "4   8195415  Noninvasive diagnosis of fetal aneuploidy by s...  DP1OD000251   \n",
       "\n",
       "              PATENT_ORG_NAME  \n",
       "0  UNIVERSITY OF PENNSYLVANIA  \n",
       "1          CORNELL UNIVERSITY  \n",
       "2       BROAD INSTITUTE, INC.  \n",
       "3       BROAD INSTITUTE, INC.  \n",
       "4         STANFORD UNIVERSITY  "
      ]
     },
     "metadata": {},
     "output_type": "display_data"
    },
    {
     "name": "stdout",
     "output_type": "stream",
     "text": [
      "-------------------------------------------\n",
      "nih_pubs.csv\n",
      "-------------------------------------------\n"
     ]
    },
    {
     "name": "stderr",
     "output_type": "stream",
     "text": [
      "/Library/Frameworks/Python.framework/Versions/3.5/lib/python3.5/site-packages/IPython/core/interactiveshell.py:2717: DtypeWarning: Columns (0) have mixed types. Specify dtype option on import or set low_memory=False.\n",
      "  interactivity=interactivity, compiler=compiler, result=result)\n"
     ]
    },
    {
     "name": "stdout",
     "output_type": "stream",
     "text": [
      "Rows: 2276741 Columns: 15\n",
      "-------------------------------------------\n"
     ]
    },
    {
     "data": {
      "text/html": [
       "<div>\n",
       "<table border=\"1\" class=\"dataframe\">\n",
       "  <thead>\n",
       "    <tr style=\"text-align: right;\">\n",
       "      <th></th>\n",
       "      <th>AFFILIATION</th>\n",
       "      <th>AUTHOR_LIST</th>\n",
       "      <th>COUNTRY</th>\n",
       "      <th>ISSN</th>\n",
       "      <th>JOURNAL_ISSUE</th>\n",
       "      <th>JOURNAL_TITLE</th>\n",
       "      <th>JOURNAL_TITLE_ABBR</th>\n",
       "      <th>JOURNAL_VOLUME</th>\n",
       "      <th>LANG</th>\n",
       "      <th>PAGE_NUMBER</th>\n",
       "      <th>PMC_ID</th>\n",
       "      <th>PMID</th>\n",
       "      <th>PUB_DATE</th>\n",
       "      <th>PUB_TITLE</th>\n",
       "      <th>PUB_YEAR</th>\n",
       "    </tr>\n",
       "  </thead>\n",
       "  <tbody>\n",
       "    <tr>\n",
       "      <th>0</th>\n",
       "      <td>NaN</td>\n",
       "      <td>Marshall, S; Olefsky, J M</td>\n",
       "      <td>UNITED STATES</td>\n",
       "      <td>0021-9738</td>\n",
       "      <td>4</td>\n",
       "      <td>The Journal of clinical investigation</td>\n",
       "      <td>J Clin Invest</td>\n",
       "      <td>66</td>\n",
       "      <td>eng</td>\n",
       "      <td>763-72</td>\n",
       "      <td>371651.0</td>\n",
       "      <td>6999035</td>\n",
       "      <td>1980 Oct</td>\n",
       "      <td>Effects of insulin incubation on insulin bindi...</td>\n",
       "      <td>1980</td>\n",
       "    </tr>\n",
       "    <tr>\n",
       "      <th>1</th>\n",
       "      <td>NaN</td>\n",
       "      <td>Castora, F J; Arnheim, N; Simpson, M V</td>\n",
       "      <td>UNITED STATES</td>\n",
       "      <td>0027-8424</td>\n",
       "      <td>11</td>\n",
       "      <td>Proceedings of the National Academy of Science...</td>\n",
       "      <td>Proc Natl Acad Sci U S A</td>\n",
       "      <td>77</td>\n",
       "      <td>eng</td>\n",
       "      <td>6415-9</td>\n",
       "      <td>350295.0</td>\n",
       "      <td>6256736</td>\n",
       "      <td>1980 Nov</td>\n",
       "      <td>Mitochondrial DNA polymorphism: evidence that ...</td>\n",
       "      <td>1980</td>\n",
       "    </tr>\n",
       "    <tr>\n",
       "      <th>2</th>\n",
       "      <td>NaN</td>\n",
       "      <td>Stump, R F; Robinson, K R; Harold, R L; Harold...</td>\n",
       "      <td>UNITED STATES</td>\n",
       "      <td>0027-8424</td>\n",
       "      <td>11</td>\n",
       "      <td>Proceedings of the National Academy of Science...</td>\n",
       "      <td>Proc Natl Acad Sci U S A</td>\n",
       "      <td>77</td>\n",
       "      <td>eng</td>\n",
       "      <td>6673-7</td>\n",
       "      <td>350350.0</td>\n",
       "      <td>6256753</td>\n",
       "      <td>1980 Nov</td>\n",
       "      <td>Endogenous electrical currents in the water mo...</td>\n",
       "      <td>1980</td>\n",
       "    </tr>\n",
       "    <tr>\n",
       "      <th>3</th>\n",
       "      <td>NaN</td>\n",
       "      <td>Schiller, J; Groman, N; Coyle, M</td>\n",
       "      <td>UNITED STATES</td>\n",
       "      <td>0066-4804</td>\n",
       "      <td>5</td>\n",
       "      <td>Antimicrobial agents and chemotherapy</td>\n",
       "      <td>Antimicrob Agents Chemother</td>\n",
       "      <td>18</td>\n",
       "      <td>eng</td>\n",
       "      <td>814-21</td>\n",
       "      <td>284096.0</td>\n",
       "      <td>6255866</td>\n",
       "      <td>1980 Nov</td>\n",
       "      <td>Plasmids in Corynebacterium diphtheriae and di...</td>\n",
       "      <td>1980</td>\n",
       "    </tr>\n",
       "    <tr>\n",
       "      <th>4</th>\n",
       "      <td>NaN</td>\n",
       "      <td>Pearson, D K; Blackwell, C W; Sullivan, W K; R...</td>\n",
       "      <td>UNITED STATES</td>\n",
       "      <td>0026-6620</td>\n",
       "      <td>12</td>\n",
       "      <td>Missouri medicine</td>\n",
       "      <td>Mo Med</td>\n",
       "      <td>77</td>\n",
       "      <td>eng</td>\n",
       "      <td>713-5</td>\n",
       "      <td>NaN</td>\n",
       "      <td>7453700</td>\n",
       "      <td>1980 Dec</td>\n",
       "      <td>Breast cancer screening: a six-year experience.</td>\n",
       "      <td>1980</td>\n",
       "    </tr>\n",
       "  </tbody>\n",
       "</table>\n",
       "</div>"
      ],
      "text/plain": [
       "  AFFILIATION                                        AUTHOR_LIST  \\\n",
       "0         NaN                          Marshall, S; Olefsky, J M   \n",
       "1         NaN             Castora, F J; Arnheim, N; Simpson, M V   \n",
       "2         NaN  Stump, R F; Robinson, K R; Harold, R L; Harold...   \n",
       "3         NaN                   Schiller, J; Groman, N; Coyle, M   \n",
       "4         NaN  Pearson, D K; Blackwell, C W; Sullivan, W K; R...   \n",
       "\n",
       "         COUNTRY       ISSN JOURNAL_ISSUE  \\\n",
       "0  UNITED STATES  0021-9738             4   \n",
       "1  UNITED STATES  0027-8424            11   \n",
       "2  UNITED STATES  0027-8424            11   \n",
       "3  UNITED STATES  0066-4804             5   \n",
       "4  UNITED STATES  0026-6620            12   \n",
       "\n",
       "                                       JOURNAL_TITLE  \\\n",
       "0              The Journal of clinical investigation   \n",
       "1  Proceedings of the National Academy of Science...   \n",
       "2  Proceedings of the National Academy of Science...   \n",
       "3              Antimicrobial agents and chemotherapy   \n",
       "4                                  Missouri medicine   \n",
       "\n",
       "            JOURNAL_TITLE_ABBR JOURNAL_VOLUME LANG PAGE_NUMBER    PMC_ID  \\\n",
       "0                J Clin Invest             66  eng      763-72  371651.0   \n",
       "1     Proc Natl Acad Sci U S A             77  eng      6415-9  350295.0   \n",
       "2     Proc Natl Acad Sci U S A             77  eng      6673-7  350350.0   \n",
       "3  Antimicrob Agents Chemother             18  eng      814-21  284096.0   \n",
       "4                       Mo Med             77  eng       713-5       NaN   \n",
       "\n",
       "      PMID  PUB_DATE                                          PUB_TITLE  \\\n",
       "0  6999035  1980 Oct  Effects of insulin incubation on insulin bindi...   \n",
       "1  6256736  1980 Nov  Mitochondrial DNA polymorphism: evidence that ...   \n",
       "2  6256753  1980 Nov  Endogenous electrical currents in the water mo...   \n",
       "3  6255866  1980 Nov  Plasmids in Corynebacterium diphtheriae and di...   \n",
       "4  7453700  1980 Dec    Breast cancer screening: a six-year experience.   \n",
       "\n",
       "   PUB_YEAR  \n",
       "0      1980  \n",
       "1      1980  \n",
       "2      1980  \n",
       "3      1980  \n",
       "4      1980  "
      ]
     },
     "metadata": {},
     "output_type": "display_data"
    }
   ],
   "source": [
    "for file in os.listdir(data_path):\n",
    "    file_list = file.split('.')\n",
    "    if len(file_list) == 2:\n",
    "        if file.split('.')[1] == 'csv':\n",
    "            print('-------------------------------------------')\n",
    "            print(file)\n",
    "            print('-------------------------------------------')\n",
    "            try:\n",
    "                df = pd.read_csv(data_path + file)\n",
    "                r, c = df.shape\n",
    "                print('Rows: {} Columns: {}'.format(r,c))\n",
    "                print('-------------------------------------------')\n",
    "                display(df.head())\n",
    "            except:\n",
    "                try:\n",
    "                    df = pd.read_csv(data_path + file, encoding = \"ISO-8859-1\")\n",
    "                    r, c = df.shape\n",
    "                    print('Rows: {} Columns: {}'.format(r,c))\n",
    "                    print('-------------------------------------------')\n",
    "                    display(df.head())\n",
    "                except:\n",
    "                    print('Error reading file')"
   ]
  },
  {
   "cell_type": "code",
   "execution_count": 4,
   "metadata": {},
   "outputs": [],
   "source": [
    "df = pd.read_csv(\"Data/nih_gbd_data.csv\")"
   ]
  },
  {
   "cell_type": "code",
   "execution_count": 5,
   "metadata": {},
   "outputs": [
    {
     "data": {
      "text/plain": [
       "Index(['disease', 'cause_name', 'year', 'funding', 'measure_name',\n",
       "       'metric_name', 'val'],\n",
       "      dtype='object')"
      ]
     },
     "execution_count": 5,
     "metadata": {},
     "output_type": "execute_result"
    }
   ],
   "source": [
    "df.columns"
   ]
  },
  {
   "cell_type": "code",
   "execution_count": 14,
   "metadata": {},
   "outputs": [
    {
     "data": {
      "text/plain": [
       "6"
      ]
     },
     "execution_count": 14,
     "metadata": {},
     "output_type": "execute_result"
    }
   ],
   "source": [
    "df['measure_name'].nunique()"
   ]
  },
  {
   "cell_type": "code",
   "execution_count": 15,
   "metadata": {},
   "outputs": [
    {
     "data": {
      "text/plain": [
       "array(['DALYs (Disability-Adjusted Life Years)', 'Incidence', 'Deaths',\n",
       "       'YLDs (Years Lived with Disability)', 'Prevalence',\n",
       "       'YLLs (Years of Life Lost)'], dtype=object)"
      ]
     },
     "execution_count": 15,
     "metadata": {},
     "output_type": "execute_result"
    }
   ],
   "source": [
    "df['measure_name'].unique()"
   ]
  },
  {
   "cell_type": "code",
   "execution_count": 6,
   "metadata": {},
   "outputs": [],
   "source": [
    "daly_df = (df.loc[(df['measure_name'] == 'DALYs (Disability-Adjusted Life Years)') & (df['metric_name'] == 'Number')]).copy()"
   ]
  },
  {
   "cell_type": "code",
   "execution_count": 7,
   "metadata": {},
   "outputs": [
    {
     "data": {
      "text/plain": [
       "10"
      ]
     },
     "execution_count": 7,
     "metadata": {},
     "output_type": "execute_result"
    }
   ],
   "source": [
    "daly_df['year'].nunique()"
   ]
  },
  {
   "cell_type": "code",
   "execution_count": 13,
   "metadata": {},
   "outputs": [
    {
     "data": {
      "text/plain": [
       "1"
      ]
     },
     "execution_count": 13,
     "metadata": {},
     "output_type": "execute_result"
    }
   ],
   "source": [
    "daly_df['measure_name'].nunique()"
   ]
  },
  {
   "cell_type": "code",
   "execution_count": 11,
   "metadata": {},
   "outputs": [
    {
     "data": {
      "text/plain": [
       "array(['alcohol use disorders', \"alzheimer's disease and other dementias\",\n",
       "       'anorexia nervosa', 'anxiety disorders', 'asthma',\n",
       "       'attention-deficit/hyperactivity disorder',\n",
       "       'autism spectrum disorders', 'low back pain', 'bipolar disorder',\n",
       "       'brain and nervous system cancer', 'breast cancer',\n",
       "       'cardiovascular diseases', 'cervical cancer',\n",
       "       'acute lymphoid leukemia',\n",
       "       'cirrhosis and other chronic liver diseases',\n",
       "       'chronic obstructive pulmonary disease', 'colon and rectum cancer',\n",
       "       'congenital heart anomalies', 'congenital birth defects',\n",
       "       'thalassemias', 'oral disorders', 'depressive disorders',\n",
       "       'diabetes mellitus', 'digestive diseases', 'down syndrome',\n",
       "       'drug use disorders', 'eating disorders', 'atopic dermatitis',\n",
       "       'other infectious diseases',\n",
       "       'endocrine, metabolic, blood, and immune disorders',\n",
       "       'endometriosis', 'epilepsy', 'uterine fibroids',\n",
       "       'headache disorders', 'hypertensive heart disease',\n",
       "       'acute hepatitis', 'acute hepatitis a', 'acute hepatitis b',\n",
       "       'acute hepatitis c', 'hiv/aids', 'hodgkin lymphoma',\n",
       "       'female infertility', 'inflammatory bowel disease',\n",
       "       'idiopathic developmental intellectual disability',\n",
       "       'chronic kidney disease', 'liver cancer',\n",
       "       'tracheal, bronchus, and lung cancer',\n",
       "       'age-related macular degeneration', 'major depressive disorder',\n",
       "       'malaria', 'maternal disorders', 'mental disorders', 'migraine',\n",
       "       'multiple sclerosis', 'neck pain', 'neonatal disorders',\n",
       "       'osteoarthritis', 'otitis media', 'ovarian cancer',\n",
       "       'pancreatic cancer', \"parkinson's disease\",\n",
       "       'neonatal preterm birth', 'prostate cancer', 'psoriasis',\n",
       "       'rheumatoid arthritis', 'schizophrenia',\n",
       "       'sexually transmitted infections excluding hiv',\n",
       "       'sickle cell disorders', 'stroke', 'substance use disorders',\n",
       "       'sudden infant death syndrome',\n",
       "       'self-harm and interpersonal violence', 'tuberculosis',\n",
       "       'uterine cancer', 'interpersonal violence'], dtype=object)"
      ]
     },
     "execution_count": 11,
     "metadata": {},
     "output_type": "execute_result"
    }
   ],
   "source": [
    "daly_df['cause_name'].unique()"
   ]
  },
  {
   "cell_type": "code",
   "execution_count": 10,
   "metadata": {},
   "outputs": [
    {
     "data": {
      "text/plain": [
       "78"
      ]
     },
     "execution_count": 10,
     "metadata": {},
     "output_type": "execute_result"
    }
   ],
   "source": [
    "daly_df['disease'].nunique()"
   ]
  },
  {
   "cell_type": "code",
   "execution_count": 12,
   "metadata": {},
   "outputs": [
    {
     "data": {
      "text/plain": [
       "array(['alcoholism, alcohol use and health', \"alzheimer's disease\",\n",
       "       \"alzheimer's disease including alzheimer's disease related dementias (ad/adrd)\",\n",
       "       \"alzheimer's disease related dementias (adrd)\", 'anorexia',\n",
       "       'anxiety disorders', 'asthma', 'attention deficit disorder (add)',\n",
       "       'autism', 'back pain', 'bipolar disorder', 'brain cancer',\n",
       "       'breast cancer', 'cardiovascular', 'cervical cancer',\n",
       "       'childhood leukemia', 'chronic liver disease and cirrhosis',\n",
       "       'chronic obstructive pulmonary disease', 'colo-rectal cancer',\n",
       "       'congenital heart disease', 'congenital structural anomalies',\n",
       "       \"cooley's anemia\", 'dental/oral and craniofacial disease',\n",
       "       'depression', 'diabetes', 'digestive diseases', 'down syndrome',\n",
       "       'drug abuse (nida only)', 'eating disorders',\n",
       "       'eczema / atopic dermatitis', 'emerging infectious diseases',\n",
       "       'endocrine disruptors', 'endometriosis', 'epilepsy',\n",
       "       'fibroid tumors (uterine)', 'headaches', 'heart disease',\n",
       "       'hepatitis', 'hepatitis - a', 'hepatitis - b', 'hepatitis - c',\n",
       "       'hiv/aids', \"hodgkin's disease\", 'infertility',\n",
       "       'inflammatory bowel disease',\n",
       "       'intellectual and developmental disabilities (idd)',\n",
       "       'kidney disease', 'liver cancer', 'liver disease', 'lung cancer',\n",
       "       'macular degeneration', 'major depressive disorder', 'malaria',\n",
       "       'maternal health', 'mental illness', 'migraines',\n",
       "       'multiple sclerosis', 'neck pain', 'neonatal respiratory distress',\n",
       "       'osteoarthritis', 'otitis media', 'ovarian cancer',\n",
       "       'pancreatic cancer', \"parkinson's disease\",\n",
       "       'preterm, low birth weight and health of the newborn',\n",
       "       'prostate cancer', 'psoriasis', 'rheumatoid arthritis',\n",
       "       'schizophrenia', 'sexually transmitted diseases/herpes',\n",
       "       'sickle cell disease', 'stroke', 'substance abuse',\n",
       "       'sudden infant death syndrome', 'suicide', 'tuberculosis',\n",
       "       'uterine cancer', 'violence against women'], dtype=object)"
      ]
     },
     "execution_count": 12,
     "metadata": {},
     "output_type": "execute_result"
    }
   ],
   "source": [
    "daly_df['disease'].unique()"
   ]
  },
  {
   "cell_type": "code",
   "execution_count": 10,
   "metadata": {},
   "outputs": [
    {
     "data": {
      "text/plain": [
       "(774, 7)"
      ]
     },
     "execution_count": 10,
     "metadata": {},
     "output_type": "execute_result"
    }
   ],
   "source": [
    "daly_df.shape"
   ]
  },
  {
   "cell_type": "code",
   "execution_count": 11,
   "metadata": {},
   "outputs": [
    {
     "data": {
      "text/plain": [
       "array(['DALYs (Disability-Adjusted Life Years)', 'Incidence', 'Deaths',\n",
       "       'YLDs (Years Lived with Disability)', 'Prevalence',\n",
       "       'YLLs (Years of Life Lost)'], dtype=object)"
      ]
     },
     "execution_count": 11,
     "metadata": {},
     "output_type": "execute_result"
    }
   ],
   "source": [
    "df['measure_name'].unique()"
   ]
  },
  {
   "cell_type": "code",
   "execution_count": 12,
   "metadata": {},
   "outputs": [
    {
     "data": {
      "text/plain": [
       "array([2014, 2015, 2016, 2017, 2008, 2011, 2012, 2013, 2009, 2010])"
      ]
     },
     "execution_count": 12,
     "metadata": {},
     "output_type": "execute_result"
    }
   ],
   "source": [
    "daly_df['year'].unique()"
   ]
  },
  {
   "cell_type": "code",
   "execution_count": null,
   "metadata": {},
   "outputs": [],
   "source": []
  }
 ],
 "metadata": {
  "kernelspec": {
   "display_name": "Python 3",
   "language": "python",
   "name": "python3"
  },
  "language_info": {
   "codemirror_mode": {
    "name": "ipython",
    "version": 3
   },
   "file_extension": ".py",
   "mimetype": "text/x-python",
   "name": "python",
   "nbconvert_exporter": "python",
   "pygments_lexer": "ipython3",
   "version": "3.5.2"
  }
 },
 "nbformat": 4,
 "nbformat_minor": 2
}
